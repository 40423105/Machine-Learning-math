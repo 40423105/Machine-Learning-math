{
  "nbformat": 4,
  "nbformat_minor": 0,
  "metadata": {
    "colab": {
      "name": "vector.ipynb",
      "provenance": [],
      "collapsed_sections": [],
      "authorship_tag": "ABX9TyOuB6vyFn1SZfh7ogoi2KFI",
      "include_colab_link": true
    },
    "kernelspec": {
      "name": "python3",
      "display_name": "Python 3"
    },
    "language_info": {
      "name": "python"
    }
  },
  "cells": [
    {
      "cell_type": "markdown",
      "metadata": {
        "id": "view-in-github",
        "colab_type": "text"
      },
      "source": [
        "<a href=\"https://colab.research.google.com/github/40423105/Machine-Learning-math/blob/main/vector.ipynb\" target=\"_parent\"><img src=\"https://colab.research.google.com/assets/colab-badge.svg\" alt=\"Open In Colab\"/></a>"
      ]
    },
    {
      "cell_type": "code",
      "execution_count": null,
      "metadata": {
        "colab": {
          "base_uri": "https://localhost:8080/"
        },
        "id": "9h_90hE2bhBf",
        "outputId": "3cbda6fc-4412-4cf4-d834-4ebff1a237ab"
      },
      "outputs": [
        {
          "output_type": "stream",
          "name": "stdout",
          "text": [
            "[2 3]\n",
            "[-2  4]\n",
            "[-9 -3]\n"
          ]
        }
      ],
      "source": [
        "import numpy as np\n",
        "\n",
        "#向量\n",
        "a = np.array([-1,2])\n",
        "b = np.array([3,1])\n",
        "\n",
        "#加法\n",
        "a_b = a + b\n",
        "#乘法\n",
        "a2 = a * 2\n",
        "b3 = b * (-3)\n",
        "\n",
        "print(a_b);print(a2);print(b3)"
      ]
    },
    {
      "cell_type": "code",
      "source": [
        "a = np.array([-2,2])\n",
        "b = np.array([2,2])\n",
        "#計算點積\n",
        "ab_1 = np.inner(a,b)\n",
        "#餘弦定理計算\n",
        "#norm = |A| = (x1^2 + x2^2)^1/2\n",
        "ab_2 = np.linalg.norm(a) * np.linalg.norm(b) * np.cos(np.pi/2)\n",
        "\n",
        "print(ab_1);print(ab_2)"
      ],
      "metadata": {
        "colab": {
          "base_uri": "https://localhost:8080/"
        },
        "id": "-TDysDxpsUaj",
        "outputId": "5df13375-2197-4a91-8eeb-574252d381f4"
      },
      "execution_count": null,
      "outputs": [
        {
          "output_type": "stream",
          "name": "stdout",
          "text": [
            "0\n",
            "4.898587196589414e-16\n"
          ]
        }
      ]
    },
    {
      "cell_type": "code",
      "source": [
        "a = np.array([1,2,1])\n",
        "b = np.array([1,-1,1])\n",
        "#計算叉積\n",
        "a_b = np.cross(a,b)\n",
        "\n",
        "print(a_b)"
      ],
      "metadata": {
        "colab": {
          "base_uri": "https://localhost:8080/"
        },
        "id": "laMdVFegtEPF",
        "outputId": "fab3aefa-4690-42af-b19b-3cc47039bbcc"
      },
      "execution_count": null,
      "outputs": [
        {
          "output_type": "stream",
          "name": "stdout",
          "text": [
            "[ 3  0 -3]\n"
          ]
        }
      ]
    },
    {
      "cell_type": "code",
      "source": [
        "import numpy as np\n",
        "a = np.array([[1,2],[3,4]])\n",
        "b = np.array([[2,2,0],[1,0,1],[0,1,1]])\n",
        "\n",
        "det_a = np.linalg.det(a)\n",
        "det_b = np.linalg.det(b)\n",
        "\n",
        "print('a={0}\\n D(a) = {1}'.format(a,np.round(det_a)))\n",
        "print('b={0}\\n D(b) = {1}'.format(b,np.round(det_b)))"
      ],
      "metadata": {
        "colab": {
          "base_uri": "https://localhost:8080/"
        },
        "id": "1EX4FswKL06x",
        "outputId": "fdefc435-71d1-4b26-e267-37505fb6dd22"
      },
      "execution_count": null,
      "outputs": [
        {
          "output_type": "stream",
          "name": "stdout",
          "text": [
            "a=[[1 2]\n",
            " [3 4]]\n",
            " D(a) = -2.0\n",
            "b=[[2 2 0]\n",
            " [1 0 1]\n",
            " [0 1 1]]\n",
            " D(b) = -4.0\n"
          ]
        }
      ]
    },
    {
      "cell_type": "code",
      "source": [
        "import numpy as np\n",
        "a1 = np.random.random((4,3))\n",
        "a2 = np.random.randint(1,11,(4,3))\n",
        "a3 = np.ones((4,3))\n",
        "a4 = np.zeros((4,3))\n",
        "a5 = np.mat(np.arange(2,25,2)).reshape(4,3)\n",
        "a6 = np.mat('1 2 3;4 5 6;7 8 9;10 11 12')\n",
        "print('a1 = \\n{}'.format(a1))\n",
        "print('a2 = \\n{}'.format(a2))\n",
        "print('a3 = \\n{}'.format(a3))\n",
        "print('a4 = \\n{}'.format(a4))\n",
        "print('a5 = \\n{}'.format(a5))\n",
        "print('a6 = \\n{}'.format(a6))"
      ],
      "metadata": {
        "id": "pdpQ0ej8NVoj",
        "outputId": "218392c5-59b0-46a3-ad73-60935d135d5c",
        "colab": {
          "base_uri": "https://localhost:8080/"
        }
      },
      "execution_count": 1,
      "outputs": [
        {
          "output_type": "stream",
          "name": "stdout",
          "text": [
            "a1 = \n",
            "[[0.12565653 0.45333113 0.8600396 ]\n",
            " [0.13404155 0.2362723  0.09302177]\n",
            " [0.33775995 0.06663311 0.44536127]\n",
            " [0.60137377 0.02666237 0.55451224]]\n",
            "a2 = \n",
            "[[6 8 8]\n",
            " [5 9 3]\n",
            " [2 9 8]\n",
            " [6 7 6]]\n",
            "a3 = \n",
            "[[1. 1. 1.]\n",
            " [1. 1. 1.]\n",
            " [1. 1. 1.]\n",
            " [1. 1. 1.]]\n",
            "a4 = \n",
            "[[0. 0. 0.]\n",
            " [0. 0. 0.]\n",
            " [0. 0. 0.]\n",
            " [0. 0. 0.]]\n",
            "a5 = \n",
            "[[ 2  4  6]\n",
            " [ 8 10 12]\n",
            " [14 16 18]\n",
            " [20 22 24]]\n",
            "a6 = \n",
            "[[ 1  2  3]\n",
            " [ 4  5  6]\n",
            " [ 7  8  9]\n",
            " [10 11 12]]\n"
          ]
        }
      ]
    },
    {
      "cell_type": "code",
      "source": [
        ""
      ],
      "metadata": {
        "id": "eEu-94RoGX0n"
      },
      "execution_count": null,
      "outputs": []
    }
  ]
}